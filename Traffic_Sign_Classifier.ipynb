{
 "cells": [
  {
   "cell_type": "markdown",
   "metadata": {},
   "source": [
    "# Self-Driving Car Engineer Nanodegree\n",
    "\n",
    "## Deep Learning\n",
    "\n",
    "## Project: Build a Traffic Sign Recognition Classifier\n",
    "\n",
    "In this notebook, a template is provided for you to implement your functionality in stages which is required to successfully complete this project. If additional code is required that cannot be included in the notebook, be sure that the Python code is successfully imported and included in your submission, if necessary. Sections that begin with **'Implementation'** in the header indicate where you should begin your implementation for your project. Note that some sections of implementation are optional, and will be marked with **'Optional'** in the header.\n",
    "\n",
    "In addition to implementing code, there will be questions that you must answer which relate to the project and your implementation. Each section where you will answer a question is preceded by a **'Question'** header. Carefully read each question and provide thorough answers in the following text boxes that begin with **'Answer:'**. Your project submission will be evaluated based on your answers to each of the questions and the implementation you provide.\n",
    "\n",
    ">**Note:** Code and Markdown cells can be executed using the **Shift + Enter** keyboard shortcut. In addition, Markdown cells can be edited by typically double-clicking the cell to enter edit mode."
   ]
  },
  {
   "cell_type": "markdown",
   "metadata": {},
   "source": [
    "---\n",
    "## Step 0: Load The Data"
   ]
  },
  {
   "cell_type": "code",
   "execution_count": 1,
   "metadata": {
    "collapsed": false
   },
   "outputs": [
    {
     "name": "stdout",
     "output_type": "stream",
     "text": [
      "\n",
      "Image Shape: (32, 32, 3)\n",
      "\n",
      "Training Set:   39209 samples\n",
      "Test Set:       12630 samples\n"
     ]
    }
   ],
   "source": [
    "# Load pickled data\n",
    "import pickle\n",
    "\n",
    "# Read the training and testing data\n",
    "\n",
    "training_file = \"/Users/srnimani/Desktop/Udacity/SelfDrivingCar/Traffic Signal/traffic-signs-data/train.p\"\n",
    "testing_file = \"/Users/srnimani/Desktop/Udacity/SelfDrivingCar/Traffic Signal/traffic-signs-data/test.p\"\n",
    "\n",
    "with open(training_file, mode='rb') as f:\n",
    "    train = pickle.load(f)\n",
    "with open(testing_file, mode='rb') as f:\n",
    "    test = pickle.load(f)\n",
    "    \n",
    "X_train, y_train = train['features'], train['labels']\n",
    "X_test, y_test = test['features'], test['labels']\n",
    "\n",
    "assert(len(X_train) == len(y_train))\n",
    "assert(len(X_test) == len(y_test))\n",
    "\n",
    "print()\n",
    "print(\"Image Shape: {}\".format(X_train[0].shape))\n",
    "print()\n",
    "print(\"Training Set:   {} samples\".format(len(X_train)))\n",
    "print(\"Test Set:       {} samples\".format(len(X_test)))"
   ]
  },
  {
   "cell_type": "markdown",
   "metadata": {},
   "source": [
    "---\n",
    "\n",
    "## Step 1: Dataset Summary & Exploration\n",
    "\n",
    "The pickled data is a dictionary with 4 key/value pairs:\n",
    "\n",
    "- `'features'` is a 4D array containing raw pixel data of the traffic sign images, (num examples, width, height, channels).\n",
    "- `'labels'` is a 2D array containing the label/class id of the traffic sign. The file `signnames.csv` contains id -> name mappings for each id.\n",
    "- `'sizes'` is a list containing tuples, (width, height) representing the the original width and height the image.\n",
    "- `'coords'` is a list containing tuples, (x1, y1, x2, y2) representing coordinates of a bounding box around the sign in the image. **THESE COORDINATES ASSUME THE ORIGINAL IMAGE. THE PICKLED DATA CONTAINS RESIZED VERSIONS (32 by 32) OF THESE IMAGES**\n",
    "\n",
    "Complete the basic data summary below."
   ]
  },
  {
   "cell_type": "code",
   "execution_count": 2,
   "metadata": {
    "collapsed": false
   },
   "outputs": [
    {
     "name": "stdout",
     "output_type": "stream",
     "text": [
      "Number of training examples = 39209\n",
      "Number of testing examples = 12630\n",
      "Image data shape = (32, 32, 3)\n",
      "Number of classes = 43\n"
     ]
    }
   ],
   "source": [
    "# Number of training examples\n",
    "n_train = 39209\n",
    "\n",
    "# Number of testing examples.\n",
    "n_test = 12630\n",
    "\n",
    "# What's the shape of an traffic sign image?\n",
    "image_shape = (32, 32, 3)\n",
    "\n",
    "# How many unique classes/labels there are in the dataset.\n",
    "n_classes = 43\n",
    "\n",
    "print(\"Number of training examples =\", n_train)\n",
    "print(\"Number of testing examples =\", n_test)\n",
    "print(\"Image data shape =\", image_shape)\n",
    "print(\"Number of classes =\", n_classes)"
   ]
  },
  {
   "cell_type": "markdown",
   "metadata": {},
   "source": [
    "Visualize the German Traffic Signs Dataset using the pickled file(s). This is open ended, suggestions include: plotting traffic sign images, plotting the count of each sign, etc.\n",
    "\n",
    "The [Matplotlib](http://matplotlib.org/) [examples](http://matplotlib.org/examples/index.html) and [gallery](http://matplotlib.org/gallery.html) pages are a great resource for doing visualizations in Python.\n",
    "\n",
    "**NOTE:** It's recommended you start with something simple first. If you wish to do more, come back to it after you've completed the rest of the sections."
   ]
  },
  {
   "cell_type": "code",
   "execution_count": 3,
   "metadata": {
    "collapsed": false
   },
   "outputs": [
    {
     "name": "stdout",
     "output_type": "stream",
     "text": [
      "41\n",
      "4\n"
     ]
    },
    {
     "data": {
      "image/png": "[encoded data removed]",
      "text/plain": [
       "<matplotlib.figure.Figure at 0x10479c5c0>"
      ]
     },
     "metadata": {},
     "output_type": "display_data"
    },
    {
     "data": {
      "image/png": "[encoded data removed]",
      "text/plain": [
       "<matplotlib.figure.Figure at 0x11ffeca20>"
      ]
     },
     "metadata": {},
     "output_type": "display_data"
    }
   ],
   "source": [
    "### Data exploration visualization goes here.\n",
    "### Feel free to use as many code cells as needed.\n",
    "import random\n",
    "import numpy as np\n",
    "import matplotlib.pyplot as plt\n",
    "\n",
    "# Visualizations will be shown in the notebook.\n",
    "%matplotlib inline\n",
    "\n",
    "index = random.randint(0, len(X_train))\n",
    "image = X_train[index].squeeze()\n",
    "\n",
    "plt.figure(figsize=(1,1))\n",
    "plt.imshow(image, cmap=\"gray\")\n",
    "print(y_train[index])\n",
    "\n",
    "index = random.randint(0, len(X_test))\n",
    "image = X_test[index].squeeze()\n",
    "\n",
    "plt.figure(figsize=(1,1))\n",
    "plt.imshow(image, cmap=\"gray\")\n",
    "print(y_test[index])"
   ]
  },
  {
   "cell_type": "markdown",
   "metadata": {},
   "source": [
    "----\n",
    "\n",
    "## Step 2: Design and Test a Model Architecture\n",
    "\n",
    "Design and implement a deep learning model that learns to recognize traffic signs. Train and test your model on the [German Traffic Sign Dataset](http://benchmark.ini.rub.de/?section=gtsrb&subsection=dataset).\n",
    "\n",
    "There are various aspects to consider when thinking about this problem:\n",
    "\n",
    "- Neural network architecture\n",
    "- Play around preprocessing techniques (normalization, rgb to grayscale, etc)\n",
    "- Number of examples per label (some have more than others).\n",
    "- Generate fake data.\n",
    "\n",
    "Here is an example of a [published baseline model on this problem](http://yann.lecun.com/exdb/publis/pdf/sermanet-ijcnn-11.pdf). It's not required to be familiar with the approach used in the paper but, it's good practice to try to read papers like these.\n",
    "\n",
    "**NOTE:** The LeNet-5 implementation shown in the [classroom](https://classroom.udacity.com/nanodegrees/nd013/parts/fbf77062-5703-404e-b60c-95b78b2f3f9e/modules/6df7ae49-c61c-4bb2-a23e-6527e69209ec/lessons/601ae704-1035-4287-8b11-e2c2716217ad/concepts/d4aca031-508f-4e0b-b493-e7b706120f81) at the end of the CNN lesson is a solid starting point. You'll have to change the number of classes and possibly the preprocessing, but aside from that it's plug and play!"
   ]
  },
  {
   "cell_type": "markdown",
   "metadata": {},
   "source": [
    "### Implementation\n",
    "\n",
    "Use the code cell (or multiple code cells, if necessary) to implement the first step of your project. Once you have completed your implementation and are satisfied with the results, be sure to thoroughly answer the questions that follow."
   ]
  },
  {
   "cell_type": "code",
   "execution_count": 4,
   "metadata": {
    "collapsed": false
   },
   "outputs": [
    {
     "name": "stdout",
     "output_type": "stream",
     "text": [
      "(32, 32, 3)\n",
      "29406\n",
      "13\n",
      "(32, 32, 3)\n",
      "9803\n",
      "12\n"
     ]
    },
    {
     "data": {
      "image/png": "[encoded data removed]",
      "text/plain": [
       "<matplotlib.figure.Figure at 0x120080358>"
      ]
     },
     "metadata": {},
     "output_type": "display_data"
    },
    {
     "data": {
      "text/plain": [
       "<matplotlib.figure.Figure at 0x1222ca710>"
      ]
     },
     "metadata": {},
     "output_type": "display_data"
    },
    {
     "data": {
      "image/png": "[encoded data removed]",
      "text/plain": [
       "<matplotlib.figure.Figure at 0x1224527b8>"
      ]
     },
     "metadata": {},
     "output_type": "display_data"
    },
    {
     "data": {
      "text/plain": [
       "<matplotlib.figure.Figure at 0x122457128>"
      ]
     },
     "metadata": {},
     "output_type": "display_data"
    }
   ],
   "source": [
    "### Generate data additional data (OPTIONAL!)\n",
    "\n",
    "# Split the training data into training and validation data\n",
    "\n",
    "from sklearn.model_selection import train_test_split\n",
    "\n",
    "X_train, X_validate, y_train, y_validate = train_test_split(X_train, y_train, test_size=0.25)\n",
    "\n",
    "# Testing the Training and Cross Validation Data Sets by displaying sample images\n",
    "# taken from the sets\n",
    "\n",
    "index = random.randint(0, len(X_train))\n",
    "image = X_train[index].squeeze()\n",
    "\n",
    "# Also check the shape and length\n",
    "\n",
    "print(np.shape(image))\n",
    "print(len(X_train))\n",
    "\n",
    "plt.figure(figsize=(1,1))\n",
    "plt.imshow(image, cmap=\"gray\")\n",
    "plt.figure(figsize=(1,1))\n",
    "print(y_train[index])\n",
    "\n",
    "index = random.randint(0, len(X_validate))\n",
    "image = X_validate[index].squeeze()\n",
    "                                           \n",
    "print(np.shape(image))\n",
    "print(len(X_validate))\n",
    "\n",
    "plt.figure(figsize=(1,1))\n",
    "plt.imshow(image, cmap=\"gray\")\n",
    "plt.figure(figsize=(1,1))\n",
    "print(y_validate[index])\n"
   ]
  },
  {
   "cell_type": "markdown",
   "metadata": {},
   "source": [
    "### Question 1 \n",
    "\n",
    "_Describe how you preprocessed the data. Why did you choose that technique?_"
   ]
  },
  {
   "cell_type": "markdown",
   "metadata": {},
   "source": [
    "**Answer:**"
   ]
  },
  {
   "cell_type": "code",
   "execution_count": 5,
   "metadata": {
    "collapsed": false
   },
   "outputs": [],
   "source": [
    "# After the data exploration, I my first task was to convert from color to grayscale and then use the LeNet structure \n",
    "# The grayscale did not workout as well as I wanted, and so went back to RGB\n",
    "# I then used the Sklearn package to split the training set into training and cross validation set using 80:20 rule,\n",
    "# as a general rule of thumb suggests.. Did not try changing the set values\n",
    "# I shuffled the data as well to ensure that model trains better and does not get stuck in any local minima\n",
    "# Set the Epochs and Batch sizes"
   ]
  },
  {
   "cell_type": "code",
   "execution_count": 6,
   "metadata": {
    "collapsed": true
   },
   "outputs": [],
   "source": [
    "from sklearn.utils import shuffle\n",
    "\n",
    "X_train, y_train = shuffle(X_train, y_train)\n",
    "\n",
    "# Setup the tensor flow\n",
    "\n",
    "import tensorflow as tf\n",
    "\n",
    "EPOCHS = 10\n",
    "BATCH_SIZE = 128"
   ]
  },
  {
   "cell_type": "markdown",
   "metadata": {},
   "source": [
    "### Question 2\n",
    "\n",
    "_Describe how you set up the training, validation and testing data for your model. **Optional**: If you generated additional data, how did you generate the data? Why did you generate the data? What are the differences in the new dataset (with generated data) from the original dataset?_"
   ]
  },
  {
   "cell_type": "markdown",
   "metadata": {},
   "source": [
    "**Answer:**"
   ]
  },
  {
   "cell_type": "code",
   "execution_count": 7,
   "metadata": {
    "collapsed": true
   },
   "outputs": [],
   "source": [
    "### As mentioned above, my data set had the training and cross validation data in the ratio of 75:25 and used\n",
    "### the cross validation data as is. Including the testing data, the ratio came to 0.57:0.19:0.24 for the three\n",
    "### sets (training:cross-validation:testing).. I had tried the validation @ 20% of the training set, but found 25% \n",
    "### offer better validation accuracy"
   ]
  },
  {
   "cell_type": "markdown",
   "metadata": {},
   "source": [
    "### Question 3\n",
    "\n",
    "_What does your final architecture look like? (Type of model, layers, sizes, connectivity, etc.)  For reference on how to build a deep neural network using TensorFlow, see [Deep Neural Network in TensorFlow\n",
    "](https://classroom.udacity.com/nanodegrees/nd013/parts/fbf77062-5703-404e-b60c-95b78b2f3f9e/modules/6df7ae49-c61c-4bb2-a23e-6527e69209ec/lessons/b516a270-8600-4f93-a0a3-20dfeabe5da6/concepts/83a3a2a2-a9bd-4b7b-95b0-eb924ab14432) from the classroom._\n"
   ]
  },
  {
   "cell_type": "markdown",
   "metadata": {},
   "source": [
    "**Answer:**"
   ]
  },
  {
   "cell_type": "code",
   "execution_count": 8,
   "metadata": {
    "collapsed": true
   },
   "outputs": [],
   "source": [
    "# The final architecture has the standard LeNet structure with the following layers\n",
    "\n",
    "# Layer 1: Convolutional. The output shape should be 28x28x6.\n",
    "# Activation. Using ReLU.\n",
    "# Pooling. The output shape is 14x14x6.\n",
    "# Layer 2: Convolutional. The output shape is 10x10x16.\n",
    "# Activation. using ReLU.\n",
    "# Pooling. The output shape is 5x5x16.\n",
    "# Flatten. Flatten the output shape of the final pooling layer such that it's 1D instead of 3D. The easiest way to do is by using tf.contrib.layers.flatten, which is already imported for you.\n",
    "# Layer 3: Fully Connected. This has 120 outputs.\n",
    "# Activation. using ReLU.\n",
    "# Layer 4: Fully Connected. This has 84 outputs.\n",
    "# Activation. using ReLU.\n",
    "# Layer 5: Fully Connected (Logits). Has 43 outputs, same as the number of labels\n",
    "# Output - Return the result of the 2nd fully connected layer."
   ]
  },
  {
   "cell_type": "code",
   "execution_count": 9,
   "metadata": {
    "collapsed": true
   },
   "outputs": [],
   "source": [
    "# Neural Network Architecture (LeNet), as described above, works on RG inputs, changed the output labels to 43\n",
    "\n",
    "from tensorflow.contrib.layers import flatten\n",
    "\n",
    "def LeNet(x):    \n",
    "    # Hyperparameters\n",
    "    mu = 0\n",
    "    sigma = 0.05\n",
    "    \n",
    "    # Layer 1: Convolutional. Input = 32x32x3. Output = 28x28x6.\n",
    "    \n",
    "    conv1_W = tf.Variable(tf.truncated_normal(shape=(5, 5, 3, 6), mean = mu, stddev = sigma))\n",
    "    conv1_b = tf.Variable(tf.zeros(6))\n",
    "    conv1   = tf.nn.conv2d(x, conv1_W, strides=[1, 1, 1, 1], padding='VALID') + conv1_b\n",
    "\n",
    "    # Activation Layer. Use the standard ReLU\n",
    "    \n",
    "    conv1 = tf.nn.relu(conv1)\n",
    "\n",
    "    # Pooling. Input = 28x28x6. Output = 14x14x6.\n",
    "    \n",
    "    conv1 = tf.nn.max_pool(conv1, ksize=[1, 2, 2, 1], strides=[1, 2, 2, 1], padding='VALID')\n",
    "\n",
    "    # Layer 2: Convolutional. Output = 10x10x16.\n",
    "    \n",
    "    conv2_W = tf.Variable(tf.truncated_normal(shape=(5, 5, 6, 16), mean = mu, stddev = sigma))\n",
    "    conv2_b = tf.Variable(tf.zeros(16))\n",
    "    conv2   = tf.nn.conv2d(conv1, conv2_W, strides=[1, 1, 1, 1], padding='VALID') + conv2_b\n",
    "    \n",
    "    # Activation. Again standard ReLU function\n",
    "    \n",
    "    conv2 = tf.nn.relu(conv2)\n",
    "\n",
    "    # SOLUTION: Pooling. Input = 10x10x16. Output = 5x5x16.\n",
    "    \n",
    "    conv2 = tf.nn.max_pool(conv2, ksize=[1, 2, 2, 1], strides=[1, 2, 2, 1], padding='VALID')\n",
    "\n",
    "    # Flatten. Input = 5x5x16. Output = 400.\n",
    "    \n",
    "    fc0   = flatten(conv2)\n",
    "    \n",
    "    # Layer 3: Fully Connected. Input = 400. Output = 120.\n",
    "    \n",
    "    fc1_W = tf.Variable(tf.truncated_normal(shape=(400, 120), mean = mu, stddev = sigma))\n",
    "    fc1_b = tf.Variable(tf.zeros(120))\n",
    "    fc1   = tf.matmul(fc0, fc1_W) + fc1_b\n",
    "    \n",
    "    # Activation, using ReLU again\n",
    "    \n",
    "    fc1    = tf.nn.relu(fc1)\n",
    "\n",
    "    # Layer 4: Fully Connected. Input = 120. Output = 84.\n",
    "    \n",
    "    fc2_W  = tf.Variable(tf.truncated_normal(shape=(120, 84), mean = mu, stddev = sigma))\n",
    "    fc2_b  = tf.Variable(tf.zeros(84))\n",
    "    fc2    = tf.matmul(fc1, fc2_W) + fc2_b\n",
    "    \n",
    "    # Activation. ReLU..\n",
    "    \n",
    "    fc2    = tf.nn.relu(fc2)\n",
    "\n",
    "    # Layer 5: Fully Connected. Input = 84. Output = 43.\n",
    "    \n",
    "    fc3_W  = tf.Variable(tf.truncated_normal(shape=(84, 43), mean = mu, stddev = sigma))\n",
    "    fc3_b  = tf.Variable(tf.zeros(43))\n",
    "    logits = tf.matmul(fc2, fc3_W) + fc3_b\n",
    "        \n",
    "    return logits"
   ]
  },
  {
   "cell_type": "code",
   "execution_count": 10,
   "metadata": {
    "collapsed": false
   },
   "outputs": [],
   "source": [
    "# Features and Labels\n",
    "# x is a placeholder for a batch of input images. y is a placeholder for a batch of output labels.\n",
    "\n",
    "x = tf.placeholder(tf.float32, (None, 32, 32, 3))\n",
    "y = tf.placeholder(tf.int32, (None))\n",
    "one_hot_y = tf.one_hot(y, 43)"
   ]
  },
  {
   "cell_type": "markdown",
   "metadata": {},
   "source": [
    "### Question 4\n",
    "\n",
    "_How did you train your model? (Type of optimizer, batch size, epochs, hyperparameters, etc.)_\n"
   ]
  },
  {
   "cell_type": "markdown",
   "metadata": {},
   "source": [
    "**Answer:**"
   ]
  },
  {
   "cell_type": "code",
   "execution_count": 11,
   "metadata": {
    "collapsed": true
   },
   "outputs": [],
   "source": [
    "# Created the training model with a training rate of 0.001, and using softmax. Objective was to reduce the cost \n",
    "# or improve the training accuracy\n",
    "#\n",
    "# Resubmission Text: *** Selectd the batch size of 128 (had tried with 256 and expectde better \n",
    "# results), as other sized did not yield any additional benefits\n",
    "# \n",
    "# Epocks were left @ 10, as I noticed that after 7 or 8, the values were not improving, and I\n",
    "# was running on my laptop, without a GPU or an AWS account, did not want to spend much time \n",
    "# in computing ***\n",
    "#\n",
    "# Evaluated the model to see how well the loss and accuracy of the model for a given dataset.\n",
    "# \n",
    "# Ran the training data through the training pipeline to train the model. Before each epoch, shuffled the training set.\n",
    "# After each epoch, measured the loss and accuracy of the validation set and saved the model after training.\n",
    "# \n",
    "# See the cells below"
   ]
  },
  {
   "cell_type": "code",
   "execution_count": 12,
   "metadata": {
    "collapsed": false
   },
   "outputs": [],
   "source": [
    "# Training the pipeline\n",
    "# Create a training pipeline that uses the model to classify the Traffic Data\n",
    "\n",
    "rate = 0.001\n",
    "\n",
    "logits = LeNet(x)\n",
    "softmax = tf.nn.softmax(logits)\n",
    "cross_entropy = tf.nn.softmax_cross_entropy_with_logits(logits, one_hot_y)\n",
    "loss_operation = tf.reduce_mean(cross_entropy)\n",
    "optimizer = tf.train.AdamOptimizer(learning_rate = rate)\n",
    "training_operation = optimizer.minimize(loss_operation)"
   ]
  },
  {
   "cell_type": "code",
   "execution_count": 13,
   "metadata": {
    "collapsed": true
   },
   "outputs": [],
   "source": [
    "# Model Evaluation\n",
    "# Evaluate how well the loss and accuracy of the model for a given dataset.\n",
    "\n",
    "correct_prediction = tf.equal(tf.argmax(logits, 1), tf.argmax(one_hot_y, 1))\n",
    "accuracy_operation = tf.reduce_mean(tf.cast(correct_prediction, tf.float32))\n",
    "saver = tf.train.Saver()\n",
    "\n",
    "def evaluate(X_data, y_data):\n",
    "    num_examples = len(X_data)\n",
    "    total_accuracy = 0\n",
    "    sess = tf.get_default_session()\n",
    "    for offset in range(0, num_examples, BATCH_SIZE):\n",
    "        batch_x, batch_y = X_data[offset:offset+BATCH_SIZE], y_data[offset:offset+BATCH_SIZE]\n",
    "        accuracy = sess.run(accuracy_operation, feed_dict={x: batch_x, y: batch_y})\n",
    "        total_accuracy += (accuracy * len(batch_x))\n",
    "    return total_accuracy / num_examples"
   ]
  },
  {
   "cell_type": "code",
   "execution_count": 14,
   "metadata": {
    "collapsed": false
   },
   "outputs": [
    {
     "name": "stdout",
     "output_type": "stream",
     "text": [
      "Training...\n",
      "\n",
      "EPOCH 1 ...\n",
      "Validation Accuracy = 0.871\n",
      "\n",
      "EPOCH 2 ...\n",
      "Validation Accuracy = 0.928\n",
      "\n",
      "EPOCH 3 ...\n",
      "Validation Accuracy = 0.954\n",
      "\n",
      "EPOCH 4 ...\n",
      "Validation Accuracy = 0.960\n",
      "\n",
      "EPOCH 5 ...\n",
      "Validation Accuracy = 0.966\n",
      "\n",
      "EPOCH 6 ...\n",
      "Validation Accuracy = 0.972\n",
      "\n",
      "EPOCH 7 ...\n",
      "Validation Accuracy = 0.967\n",
      "\n",
      "EPOCH 8 ...\n",
      "Validation Accuracy = 0.966\n",
      "\n",
      "EPOCH 9 ...\n",
      "Validation Accuracy = 0.971\n",
      "\n",
      "EPOCH 10 ...\n",
      "Validation Accuracy = 0.970\n",
      "\n",
      "Model saved\n"
     ]
    }
   ],
   "source": [
    "# Train the Model\n",
    "# Run the training data through the training pipeline to train the model.\n",
    "# Before each epoch, shuffle the training set.\n",
    "# After each epoch, measure the loss and accuracy of the validation set.\n",
    "# Save the model after training.\n",
    "\n",
    "with tf.Session() as sess:\n",
    "    sess.run(tf.global_variables_initializer())\n",
    "    num_examples = len(X_train)\n",
    "    \n",
    "    print(\"Training...\")\n",
    "    print()\n",
    "    for i in range(EPOCHS):\n",
    "        X_train, y_train = shuffle(X_train, y_train)\n",
    "        for offset in range(0, num_examples, BATCH_SIZE):\n",
    "            end = offset + BATCH_SIZE\n",
    "            batch_x, batch_y = X_train[offset:end], y_train[offset:end]\n",
    "            sess.run(training_operation, feed_dict={x: batch_x, y: batch_y})\n",
    "            \n",
    "        validation_accuracy = evaluate(X_validate, y_validate)\n",
    "        print(\"EPOCH {} ...\".format(i+1))\n",
    "        print(\"Validation Accuracy = {:.3f}\".format(validation_accuracy))\n",
    "        print()\n",
    "        \n",
    "    saver.save(sess, 'lenet')\n",
    "    print(\"Model saved\")"
   ]
  },
  {
   "cell_type": "code",
   "execution_count": 15,
   "metadata": {
    "collapsed": false
   },
   "outputs": [
    {
     "name": "stdout",
     "output_type": "stream",
     "text": [
      "()\n",
      "Tensor(\"add_4:0\", shape=(?, 43), dtype=float32)\n",
      "[[  9.47480439e-04   1.38197802e-02   1.35254383e-03 ...,   1.77390613e-02\n",
      "    1.52381733e-01   1.17592211e-03]\n",
      " [  4.80680637e-06   1.22771342e-03   3.86390457e-05 ...,   3.69161181e-02\n",
      "    5.89144565e-02   1.08113702e-04]\n",
      " [  1.43300183e-03   1.87552124e-02   4.14333353e-03 ...,   2.12933347e-02\n",
      "    1.50313139e-01   3.08501092e-03]\n",
      " ..., \n",
      " [  9.59301833e-03   2.55185459e-02   1.36169530e-02 ...,   4.59490046e-02\n",
      "    5.82007095e-02   1.46724461e-02]\n",
      " [  1.42338965e-02   2.48354059e-02   1.47137651e-02 ...,   2.92237997e-02\n",
      "    5.08330315e-02   1.57898441e-02]\n",
      " [  1.29887797e-02   2.70919539e-02   1.51503375e-02 ...,   4.76045199e-02\n",
      "    5.58384433e-02   1.53642315e-02]]\n"
     ]
    }
   ],
   "source": [
    "print(np.shape(logits))\n",
    "print(logits)\n",
    "with tf.Session() as sess:\n",
    "    sess.run(tf.global_variables_initializer())\n",
    "    output = sess.run(softmax, feed_dict={x: X_test[0:len(X_test)]})\n",
    "print(output)"
   ]
  },
  {
   "cell_type": "code",
   "execution_count": 16,
   "metadata": {
    "collapsed": false
   },
   "outputs": [
    {
     "name": "stdout",
     "output_type": "stream",
     "text": [
      "Test Accuracy = 0.898\n"
     ]
    }
   ],
   "source": [
    "# Evaluate the Model\n",
    "# To be run only once!\n",
    "\n",
    "with tf.Session() as sess:\n",
    "    saver.restore(sess, tf.train.latest_checkpoint('.'))\n",
    "    test_accuracy = evaluate(X_test, y_test)\n",
    "    output = sess.run(softmax, feed_dict={x: X_test[0:len(X_test)]})\n",
    "    #print(output)\n",
    "    print(\"Test Accuracy = {:.3f}\".format(test_accuracy))"
   ]
  },
  {
   "cell_type": "markdown",
   "metadata": {},
   "source": [
    "### Question 5\n",
    "\n",
    "\n",
    "_What approach did you take in coming up with a solution to this problem? It may have been a process of trial and error, in which case, outline the steps you took to get to the final solution and why you chose those steps. Perhaps your solution involved an already well known implementation or architecture. In this case, discuss why you think this is suitable for the current problem._"
   ]
  },
  {
   "cell_type": "markdown",
   "metadata": {},
   "source": [
    "**Answer:**"
   ]
  },
  {
   "cell_type": "code",
   "execution_count": 17,
   "metadata": {
    "collapsed": true
   },
   "outputs": [],
   "source": [
    "# I played around with several of the parameters - Batch-size, Standard Deviation (sigma).. The one that the maximum\n",
    "# impact was sigma.. increasing from 0.1 to 0.2 made the validation accuracy worse (less than 20%), whereas \n",
    "# making it 0.05 incerased the accuracy close to 98%. The batch-size from 128 to 256, did not make much difference.\n",
    "# I tried multiple runs with the same parameters, and due to random shuffling the results were random, and the best \n",
    "# accuracy (of 98%) was achieved with a sigma of 0.05, batch size of 128 and validation set of 25% of the training set.\n",
    "#\n",
    "# I looked at other activation functions, and among sigmoid, tanh and ReLU, ReLu was rated the best as it was first \n",
    "# and does not have vanishing gradient problem, noted in the literature.\n",
    "#"
   ]
  },
  {
   "cell_type": "markdown",
   "metadata": {},
   "source": [
    "---\n",
    "\n",
    "## Step 3: Test a Model on New Images\n",
    "\n",
    "Take several pictures of traffic signs that you find on the web or around you (at least five), and run them through your classifier on your computer to produce example results. The classifier might not recognize some local signs but it could prove interesting nonetheless.\n",
    "\n",
    "You may find `signnames.csv` useful as it contains mappings from the class id (integer) to the actual sign name."
   ]
  },
  {
   "cell_type": "markdown",
   "metadata": {},
   "source": [
    "### Implementation\n",
    "\n",
    "Use the code cell (or multiple code cells, if necessary) to implement the first step of your project. Once you have completed your implementation and are satisfied with the results, be sure to thoroughly answer the questions that follow."
   ]
  },
  {
   "cell_type": "code",
   "execution_count": 18,
   "metadata": {
    "collapsed": false
   },
   "outputs": [
    {
     "name": "stdout",
     "output_type": "stream",
     "text": [
      "(5, 32, 32, 3)\n"
     ]
    }
   ],
   "source": [
    "### Load the images and plot them here.\n",
    "### This directory has 5 images taken from the web\n",
    "### Reduce the size of the images to 32 x 32 as required by our model\n",
    "\n",
    "from scipy import misc\n",
    "from scipy.ndimage import imread\n",
    "import glob\n",
    "import cv2\n",
    "\n",
    "test_lib =[]\n",
    "for image_path in glob.glob(\"/Users/srnimani/CarND-Traffic-Sign-Classifier-Project/Test Images/*.*\"):\n",
    "    image = misc.imread(image_path)\n",
    "    image_reduced = cv2.resize(image, (32,32), interpolation = cv2.INTER_AREA) #, Image.ANTIALIAS)\n",
    "    test_lib.append(image_reduced)\n",
    "print(np.shape(test_lib))\n"
   ]
  },
  {
   "cell_type": "code",
   "execution_count": 19,
   "metadata": {
    "collapsed": false
   },
   "outputs": [
    {
     "name": "stdout",
     "output_type": "stream",
     "text": [
      "[1, 39, 27, 12, 33]\n"
     ]
    }
   ],
   "source": [
    "# Assign y test values for the 5 images by looking up the signnames.csv for a closest match\n",
    "\n",
    "y_test_lib =[1, 39, 27, 12, 33] \n",
    "print(y_test_lib)"
   ]
  },
  {
   "cell_type": "markdown",
   "metadata": {},
   "source": [
    "### Question 6\n",
    "\n",
    "_Choose five candidate images of traffic signs and provide them in the report. Are there any particular qualities of the image(s) that might make classification difficult? It could be helpful to plot the images in the notebook._\n",
    "\n"
   ]
  },
  {
   "cell_type": "markdown",
   "metadata": {},
   "source": [
    "**Answer:**"
   ]
  },
  {
   "cell_type": "code",
   "execution_count": 20,
   "metadata": {
    "collapsed": true
   },
   "outputs": [],
   "source": [
    "# I have taken 5 signs from the web (all German signs) for checking out how the model predicts.. while I expected \n",
    "# \n",
    "# Resubmission New Text: *** I realized that the results were not not 100% accurate as predicted, \n",
    "# because the symbols were not Triangular as in the rest of data set, but round.. ***\n",
    "#"
   ]
  },
  {
   "cell_type": "code",
   "execution_count": 21,
   "metadata": {
    "collapsed": false
   },
   "outputs": [
    {
     "name": "stdout",
     "output_type": "stream",
     "text": [
      "5\n",
      "5\n",
      "1\n",
      "39\n",
      "27\n",
      "12\n",
      "33\n"
     ]
    },
    {
     "data": {
      "image/png": "[encoded data removed]",
      "text/plain": [
       "<matplotlib.figure.Figure at 0x109d3b630>"
      ]
     },
     "metadata": {},
     "output_type": "display_data"
    },
    {
     "data": {
      "text/plain": [
       "<matplotlib.figure.Figure at 0x132899eb8>"
      ]
     },
     "metadata": {},
     "output_type": "display_data"
    },
    {
     "data": {
      "image/png": "[encoded data removed]",
      "text/plain": [
       "<matplotlib.figure.Figure at 0x13289f978>"
      ]
     },
     "metadata": {},
     "output_type": "display_data"
    },
    {
     "data": {
      "text/plain": [
       "<matplotlib.figure.Figure at 0x13285fb70>"
      ]
     },
     "metadata": {},
     "output_type": "display_data"
    },
    {
     "data": {
      "image/png": "[encoded data removed]",
      "text/plain": [
       "<matplotlib.figure.Figure at 0x132867630>"
      ]
     },
     "metadata": {},
     "output_type": "display_data"
    },
    {
     "data": {
      "text/plain": [
       "<matplotlib.figure.Figure at 0x104422080>"
      ]
     },
     "metadata": {},
     "output_type": "display_data"
    },
    {
     "data": {
      "image/png": "[encoded data removed]",
      "text/plain": [
       "<matplotlib.figure.Figure at 0x104422b00>"
      ]
     },
     "metadata": {},
     "output_type": "display_data"
    },
    {
     "data": {
      "text/plain": [
       "<matplotlib.figure.Figure at 0x10433bbe0>"
      ]
     },
     "metadata": {},
     "output_type": "display_data"
    },
    {
     "data": {
      "image/png": "[encoded data removed]",
      "text/plain": [
       "<matplotlib.figure.Figure at 0x109bd7668>"
      ]
     },
     "metadata": {},
     "output_type": "display_data"
    },
    {
     "data": {
      "text/plain": [
       "<matplotlib.figure.Figure at 0x109c2a3c8>"
      ]
     },
     "metadata": {},
     "output_type": "display_data"
    }
   ],
   "source": [
    "# Select all images from the lib created and display\n",
    "print(len(y_test_lib))\n",
    "print(len(test_lib))\n",
    "assert(len(y_test_lib) == len(test_lib))\n",
    "for i in range (len(test_lib)):\n",
    "    print(y_test_lib[i])\n",
    "    plt.figure(figsize=(1,1))\n",
    "    image = test_lib[i]\n",
    "    plt.imshow(test_lib[i], cmap=\"gray\")\n",
    "    plt.figure(figsize=(1,1))\n",
    "    "
   ]
  },
  {
   "cell_type": "markdown",
   "metadata": {},
   "source": [
    "### Question 7\n",
    "\n",
    "_Is your model able to perform equally well on captured pictures when compared to testing on the dataset? The simplest way to do this check the accuracy of the predictions. For example, if the model predicted 1 out of 5 signs correctly, it's 20% accurate._\n",
    "\n",
    "_**NOTE:** You could check the accuracy manually by using `signnames.csv` (same directory). This file has a mapping from the class id (0-42) to the corresponding sign name. So, you could take the class id the model outputs, lookup the name in `signnames.csv` and see if it matches the sign from the image._\n"
   ]
  },
  {
   "cell_type": "markdown",
   "metadata": {},
   "source": [
    "**Answer:**"
   ]
  },
  {
   "cell_type": "code",
   "execution_count": 22,
   "metadata": {
    "collapsed": false
   },
   "outputs": [
    {
     "name": "stdout",
     "output_type": "stream",
     "text": [
      "Test Accuracy = 0.600\n",
      "[[  0.00000000e+00   0.00000000e+00   0.00000000e+00   0.00000000e+00\n",
      "    0.00000000e+00   4.69756777e-26   0.00000000e+00   0.00000000e+00\n",
      "    2.14064263e-27   0.00000000e+00   0.00000000e+00   0.00000000e+00\n",
      "    1.26047486e-20   3.07307184e-36   6.42457544e-37   1.82748067e-10\n",
      "    0.00000000e+00   0.00000000e+00   1.00000000e+00   0.00000000e+00\n",
      "    0.00000000e+00   0.00000000e+00   0.00000000e+00   0.00000000e+00\n",
      "    0.00000000e+00   4.27002197e-36   1.75863964e-23   3.16547634e-34\n",
      "    0.00000000e+00   0.00000000e+00   0.00000000e+00   0.00000000e+00\n",
      "    0.00000000e+00   1.01606784e-33   3.75516436e-29   0.00000000e+00\n",
      "    3.05340300e-30   3.26128914e-20   4.89187790e-18   6.14111772e-29\n",
      "    7.52331900e-26   3.87787321e-35   0.00000000e+00]\n",
      " [  0.00000000e+00   9.89996266e-28   7.80584867e-17   1.66212347e-35\n",
      "    4.17903879e-28   8.05293451e-30   0.00000000e+00   9.91697151e-28\n",
      "    9.71209513e-31   8.54969603e-32   0.00000000e+00   5.68292623e-27\n",
      "    0.00000000e+00   2.53145689e-37   0.00000000e+00   6.55375622e-24\n",
      "    0.00000000e+00   0.00000000e+00   1.38198497e-22   5.27054177e-28\n",
      "    2.09261689e-36   4.19946444e-27   4.96741126e-35   2.10987773e-33\n",
      "    9.04073247e-15   4.35045913e-34   2.38605599e-27   1.97225876e-31\n",
      "    1.26139340e-20   3.48794208e-25   1.11662923e-35   2.05051341e-22\n",
      "    0.00000000e+00   9.71087459e-08   1.02993123e-36   3.75023088e-26\n",
      "    0.00000000e+00   1.39240171e-18   2.64283181e-38   9.99999881e-01\n",
      "    4.88678722e-25   0.00000000e+00   0.00000000e+00]\n",
      " [  8.72392650e-18   9.84167218e-06   9.91387427e-01   6.20522986e-21\n",
      "    8.30598629e-21   5.60258888e-03   5.58709259e-11   8.26655870e-31\n",
      "    1.94109863e-18   0.00000000e+00   0.00000000e+00   5.69374365e-12\n",
      "    4.65882150e-16   4.07367653e-24   2.95797470e-23   2.12708320e-14\n",
      "    1.35036739e-34   9.33078102e-33   1.25794926e-07   1.03237180e-14\n",
      "    1.58402819e-10   5.95575986e-19   2.00336965e-36   4.56247216e-14\n",
      "    9.00836199e-21   3.24300371e-23   1.79429803e-26   3.65566910e-09\n",
      "    8.27033330e-26   7.07651209e-23   5.17488844e-19   4.39869253e-20\n",
      "    3.21768945e-10   2.23738424e-11   4.24849718e-23   2.98547982e-28\n",
      "    1.60176230e-17   1.08815977e-11   1.98987662e-03   8.48125730e-20\n",
      "    1.01020769e-03   1.12741405e-11   5.25782053e-28]\n",
      " [  0.00000000e+00   0.00000000e+00   0.00000000e+00   0.00000000e+00\n",
      "    0.00000000e+00   1.81751451e-36   0.00000000e+00   0.00000000e+00\n",
      "    0.00000000e+00   1.84850004e-25   7.26062835e-32   1.83240260e-24\n",
      "    9.99999762e-01   2.18487571e-07   3.26658584e-24   8.57034340e-22\n",
      "    1.76387982e-38   2.07518509e-27   3.03140073e-28   0.00000000e+00\n",
      "    3.40203111e-30   2.30976073e-35   0.00000000e+00   1.56090647e-37\n",
      "    0.00000000e+00   5.74991282e-35   1.14890870e-23   0.00000000e+00\n",
      "    0.00000000e+00   4.19565433e-34   2.28406546e-32   0.00000000e+00\n",
      "    2.08002884e-26   0.00000000e+00   3.07604659e-38   0.00000000e+00\n",
      "    0.00000000e+00   0.00000000e+00   7.08131623e-27   0.00000000e+00\n",
      "    6.42657419e-25   4.06371184e-20   1.32604444e-21]\n",
      " [  0.00000000e+00   3.58140714e-32   0.00000000e+00   0.00000000e+00\n",
      "    9.46656999e-26   3.13053156e-34   0.00000000e+00   0.00000000e+00\n",
      "    0.00000000e+00   0.00000000e+00   4.30505980e-34   7.01984521e-24\n",
      "    8.31284688e-29   0.00000000e+00   0.00000000e+00   1.12361955e-28\n",
      "    0.00000000e+00   0.00000000e+00   1.27679334e-20   0.00000000e+00\n",
      "    0.00000000e+00   0.00000000e+00   0.00000000e+00   0.00000000e+00\n",
      "    2.44258704e-32   4.60957373e-26   1.77133201e-22   0.00000000e+00\n",
      "    0.00000000e+00   3.92895028e-33   0.00000000e+00   0.00000000e+00\n",
      "    0.00000000e+00   1.00000000e+00   3.02908349e-32   7.10803159e-34\n",
      "    0.00000000e+00   2.05575425e-21   0.00000000e+00   2.98492547e-22\n",
      "    0.00000000e+00   0.00000000e+00   0.00000000e+00]]\n"
     ]
    }
   ],
   "source": [
    "### Run the predictions here.\n",
    "\n",
    "import tensorflow as tf\n",
    "\n",
    "with tf.Session() as sess:\n",
    "    sess.run(tf.global_variables_initializer())\n",
    "    saver.restore(sess, tf.train.latest_checkpoint('.'))\n",
    "    test_accuracy = evaluate(test_lib, y_test_lib)    \n",
    "    ### Visualize the softmax probabilities \n",
    "    prediction = sess.run(softmax, feed_dict={x: test_lib[0:len(test_lib)]})\n",
    "    print(\"Test Accuracy = {:.3f}\".format(test_accuracy))\n",
    "print(prediction)"
   ]
  },
  {
   "cell_type": "markdown",
   "metadata": {},
   "source": [
    "### Question 8\n",
    "\n",
    "*Use the model's softmax probabilities to visualize the **certainty** of its predictions, [`tf.nn.top_k`](https://www.tensorflow.org/versions/r0.12/api_docs/python/nn.html#top_k) could prove helpful here. Which predictions is the model certain of? Uncertain? If the model was incorrect in its initial prediction, does the correct prediction appear in the top k? (k should be 5 at most)*\n",
    "\n",
    "`tf.nn.top_k` will return the values and indices (class ids) of the top k predictions. So if k=3, for each sign, it'll return the 3 largest probabilities (out of a possible 43) and the correspoding class ids.\n",
    "\n",
    "Take this numpy array as an example:\n",
    "\n",
    "```\n",
    "# (5, 6) array\n",
    "a = np.array([[ 0.24879643,  0.07032244,  0.12641572,  0.34763842,  0.07893497,\n",
    "         0.12789202],\n",
    "       [ 0.28086119,  0.27569815,  0.08594638,  0.0178669 ,  0.18063401,\n",
    "         0.15899337],\n",
    "       [ 0.26076848,  0.23664738,  0.08020603,  0.07001922,  0.1134371 ,\n",
    "         0.23892179],\n",
    "       [ 0.11943333,  0.29198961,  0.02605103,  0.26234032,  0.1351348 ,\n",
    "         0.16505091],\n",
    "       [ 0.09561176,  0.34396535,  0.0643941 ,  0.16240774,  0.24206137,\n",
    "         0.09155967]])\n",
    "```\n",
    "\n",
    "Running it through `sess.run(tf.nn.top_k(tf.constant(a), k=3))` produces:\n",
    "\n",
    "```\n",
    "TopKV2(values=array([[ 0.34763842,  0.24879643,  0.12789202],\n",
    "       [ 0.28086119,  0.27569815,  0.18063401],\n",
    "       [ 0.26076848,  0.23892179,  0.23664738],\n",
    "       [ 0.29198961,  0.26234032,  0.16505091],\n",
    "       [ 0.34396535,  0.24206137,  0.16240774]]), indices=array([[3, 0, 5],\n",
    "       [0, 1, 4],\n",
    "       [0, 5, 1],\n",
    "       [1, 3, 5],\n",
    "       [1, 4, 3]], dtype=int32))\n",
    "```\n",
    "\n",
    "Looking just at the first row we get `[ 0.34763842,  0.24879643,  0.12789202]`, you can confirm these are the 3 largest probabilities in `a`. You'll also notice `[3, 0, 5]` are the corresponding indices."
   ]
  },
  {
   "cell_type": "markdown",
   "metadata": {},
   "source": [
    "**Answer:**"
   ]
  },
  {
   "cell_type": "markdown",
   "metadata": {},
   "source": [
    "> **Note**: Once you have completed all of the code implementations and successfully answered each question above, you may finalize your work by exporting the iPython Notebook as an HTML document. You can do this by using the menu above and navigating to  \\n\",\n",
    "    \"**File -> Download as -> HTML (.html)**. Include the finished document along with this notebook as your submission."
   ]
  },
  {
   "cell_type": "code",
   "execution_count": 23,
   "metadata": {
    "collapsed": false
   },
   "outputs": [
    {
     "name": "stdout",
     "output_type": "stream",
     "text": [
      "(1, 5, 5)\n",
      "(1, 5, 5)\n",
      "TopKV2(values=array([[  1.00000000e+00,   1.82748067e-10,   4.89187790e-18,\n",
      "          3.26128914e-20,   1.26047486e-20],\n",
      "       [  9.99999881e-01,   9.71087459e-08,   9.04073247e-15,\n",
      "          7.80584867e-17,   1.39240171e-18],\n",
      "       [  9.91387427e-01,   5.60258888e-03,   1.98987662e-03,\n",
      "          1.01020769e-03,   9.84167218e-06],\n",
      "       [  9.99999762e-01,   2.18487571e-07,   4.06371184e-20,\n",
      "          1.32604444e-21,   8.57034340e-22],\n",
      "       [  1.00000000e+00,   1.27679334e-20,   2.05575425e-21,\n",
      "          2.98492547e-22,   1.77133201e-22]], dtype=float32), indices=array([[18, 15, 38, 37, 12],\n",
      "       [39, 33, 24,  2, 37],\n",
      "       [ 2,  5, 38, 40,  1],\n",
      "       [12, 13, 41, 42, 15],\n",
      "       [33, 18, 37, 39, 26]], dtype=int32))\n"
     ]
    }
   ],
   "source": [
    "# Initialize and get the top 5 values and the corresponding indices for each of the 5 images\n",
    "init_op = tf.global_variables_initializer()\n",
    "\n",
    "with tf.Session() as sess: \n",
    "    sess.run(init_op)\n",
    "    topFive = sess.run(tf.nn.top_k(tf.constant(prediction), k=5))    \n",
    "    values = np.array([topFive.values])\n",
    "    print(np.shape(values))\n",
    "    indices = np.array([topFive.indices])\n",
    "    print(np.shape(indices))\n",
    "print(topFive)"
   ]
  },
  {
   "cell_type": "code",
   "execution_count": 24,
   "metadata": {
    "collapsed": false
   },
   "outputs": [
    {
     "data": {
      "image/png": "[encoded data removed]",
      "text/plain": [
       "<matplotlib.figure.Figure at 0x109cd09e8>"
      ]
     },
     "metadata": {},
     "output_type": "display_data"
    },
    {
     "name": "stdout",
     "output_type": "stream",
     "text": [
      "raw top_k results:\n",
      "\n",
      "tf.nn.top_k(prediction, 5).values  [array([  1.00000000e+00,   1.82748067e-10,   4.89187790e-18,\n",
      "         3.26128914e-20,   1.26047486e-20], dtype=float32), array([  9.99999881e-01,   9.71087459e-08,   9.04073247e-15,\n",
      "         7.80584867e-17,   1.39240171e-18], dtype=float32), array([  9.91387427e-01,   5.60258888e-03,   1.98987662e-03,\n",
      "         1.01020769e-03,   9.84167218e-06], dtype=float32), array([  9.99999762e-01,   2.18487571e-07,   4.06371184e-20,\n",
      "         1.32604444e-21,   8.57034340e-22], dtype=float32), array([  1.00000000e+00,   1.27679334e-20,   2.05575425e-21,\n",
      "         2.98492547e-22,   1.77133201e-22], dtype=float32)]\n",
      "tf.nn.top_k(prediction, 5).indices [array([18, 15, 38, 37, 12], dtype=int32), array([39, 33, 24,  2, 37], dtype=int32), array([ 2,  5, 38, 40,  1], dtype=int32), array([12, 13, 41, 42, 15], dtype=int32), array([33, 18, 37, 39, 26], dtype=int32)]\n",
      "\n",
      "\n"
     ]
    }
   ],
   "source": [
    "def plot_top_k_probabilities(pred_cls, pred_prob, title):\n",
    "    plt.plot(list(pred_cls), list(pred_prob), 'ro')\n",
    "    x1,x2,y1,y2 = plt.axis()\n",
    "    plt.axis((x1-1,x2+1,y1,y2+0.1))\n",
    "\n",
    "    plt.ylabel('Probability')\n",
    "    plt.title(title) \n",
    "    plt.show()    \n",
    "    \n",
    "\n",
    "for i in range(len(values)):\n",
    "               \n",
    "    predicted_class = indices[i] #.[np.argmax(values[i])]    \n",
    "    correct_class = y_test_lib\n",
    "    \n",
    "    plot_title = 'Predicted: {}\\nCorrect: {}'.format(predicted_class, correct_class)     \n",
    "    plot_top_k_probabilities(indices[i], values[i], plot_title)\n",
    "    \n",
    "    print('raw top_k results:')\n",
    "    print('')\n",
    "    print('tf.nn.top_k(prediction, 5).values ', list(values[i]))\n",
    "    print('tf.nn.top_k(prediction, 5).indices', list(indices[i]))    \n",
    "    \n",
    "    print('')\n",
    "    print('')"
   ]
  },
  {
   "cell_type": "code",
   "execution_count": 1,
   "metadata": {
    "collapsed": true
   },
   "outputs": [],
   "source": [
    "# Resubmission Text: *** As can be seen be seen from the image above, the predictor is very\n",
    "# certain on its results - with a 100% probability for one (top prediction) and 0 for the rest\n",
    "# for all 5 images. This may mean that the model does not need any retuning/ or need any \n",
    "# new network architecture. ***"
   ]
  }
 ],
 "metadata": {
  "anaconda-cloud": {},
  "kernelspec": {
   "display_name": "Python 3",
   "language": "python",
   "name": "python3"
  },
  "language_info": {
   "codemirror_mode": {
    "name": "ipython",
    "version": 3
   },
   "file_extension": ".py",
   "mimetype": "text/x-python",
   "name": "python",
   "nbconvert_exporter": "python",
   "pygments_lexer": "ipython3",
   "version": "3.5.2"
  },
  "widgets": {
   "state": {},
   "version": "1.1.2"
  }
 },
 "nbformat": 4,
 "nbformat_minor": 1
}
